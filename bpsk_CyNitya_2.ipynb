{
 "metadata": {
  "name": "",
  "signature": "sha256:5b3fe189c7cbda424ae34a6dab7ce33492e225cfd429901116b547eee66c7881"
 },
 "nbformat": 3,
 "nbformat_minor": 0,
 "worksheets": [
  {
   "cells": [
    {
     "cell_type": "code",
     "collapsed": false,
     "input": [
      "from scipy.io import wavfile\n",
      "import bpsk\n",
      "import numpy as np\n",
      "import matplotlib.pyplot as mplib\n",
      "import thinkdsp\n",
      "from array import array\n",
      "\n",
      "%matplotlib inline\n",
      "bpsk.help()"
     ],
     "language": "python",
     "metadata": {},
     "outputs": [
      {
       "output_type": "stream",
       "stream": "stdout",
       "text": [
        "This module provides:\n",
        "\n",
        "     generate_bpsk_signal(bits, rate=8000, symbol_len = 250, freq = 1000):\n",
        "         Returns a numpy array which is a BPSK encoding of bits\n",
        "         1 symbol worth of zeros are added at the beginning and the end to aid detection of transmission start\n",
        "         A 1 bit is added to the beginning to help with synchronization\n",
        "         bits -  a numpy array of 1s and 0s\n",
        "         rate - sample rate used\n",
        "         symbol_len - length in samples of the rectangular pulse used to encode the bits\n",
        "         freq - carrier frequency in Hz\n",
        "\n",
        "     decode_bpsk_signal(x, freq=1000, rate = 8000, symbol_len = 250, detection_threshold_factor = 0.3, LPFbw = 320):\n",
        "         Decodes a received BPSK signal in vector x and produces a numpyarray of bits \n",
        "         The function uses a brute-force approach to carrier phase synchronization by checking 16 evenly spaced\n",
        "         phase offsets between -pi and pi to find the one which results in the strongest demodulated signal\n",
        "         which is then used as the demodulated signal\n",
        "         The first bit is assumed to be a control bit that always equals 1. This bit is not returned in the final output\n",
        "         x - a numpy array of the received audio samples\n",
        "         freq - carrier frequency \n",
        "         rate - sample rate used \n",
        "         symbol_len - length in samples of the rectangular pulse\n",
        "         detection_threshold_factor - this is used for detecting the start and end of transmission\n",
        "                                      the start of transmission is the first sample that exceeds\n",
        "                                      detection_threshold_factor times the maximum value in x\n",
        "                                      the end of transmission is the last sample that exceeds\n",
        "                                      detection_threshold_factor times the maximum value in x\n",
        "         LPFbw - this is the bandwidth in rad/sec of the low-pass filter that is used after\n",
        "                 multiplying with a cosine\n"
       ]
      }
     ],
     "prompt_number": 2
    },
    {
     "cell_type": "heading",
     "level": 2,
     "metadata": {},
     "source": [
      "bpsk.generate_bpsk_signal"
     ]
    },
    {
     "cell_type": "code",
     "collapsed": false,
     "input": [
      "c = 'Hello'\n",
      "s_byte = bytearray(c,'ascii')"
     ],
     "language": "python",
     "metadata": {},
     "outputs": [],
     "prompt_number": 3
    },
    {
     "cell_type": "code",
     "collapsed": false,
     "input": [
      "def string2NPArray(s):\n",
      "    bits = np.array([])\n",
      "    for a in bytearray(s, 'ascii'):\n",
      "        for b in range(0,7):\n",
      "            bits = np.append(bits,float((a>>(7-b-1))&1))\n",
      "    return bits"
     ],
     "language": "python",
     "metadata": {},
     "outputs": [],
     "prompt_number": 4
    },
    {
     "cell_type": "code",
     "collapsed": false,
     "input": [
      "hello = string2NPArray('A')\n",
      "hello\n",
      "\n",
      "def extend_250(bits):\n",
      "    new = []\n",
      "    new.extend(np.asarray(250*[0.0]))\n",
      "    new.extend(np.asarray(250*[1.0]))\n",
      "    for i in bits:\n",
      "        if i == 1:\n",
      "            new.extend(np.asarray(250*[1.0]))\n",
      "        if i==0:\n",
      "            new.extend(np.asarray(250*[-1.0]))\n",
      "    new.extend(np.asarray(250*[0.0]))\n",
      "    return np.asarray(new)\n",
      "        \n",
      "bits = extend_250(hello)\n",
      "bits"
     ],
     "language": "python",
     "metadata": {},
     "outputs": [
      {
       "metadata": {},
       "output_type": "pyout",
       "prompt_number": 5,
       "text": [
        "array([ 0.,  0.,  0., ...,  0.,  0.,  0.])"
       ]
      }
     ],
     "prompt_number": 5
    },
    {
     "cell_type": "code",
     "collapsed": false,
     "input": [
      "def convert_to_int16(sig):\n",
      "    # convert into int16  to write as wave\n",
      "    sig = (sig/np.max(sig))*(2**14)\n",
      "    sig = sig.astype('int16')\n",
      "    return sig\n",
      "\n",
      "hello_convert = convert_to_int16(hello)\n",
      "hello_convert"
     ],
     "language": "python",
     "metadata": {},
     "outputs": [
      {
       "metadata": {},
       "output_type": "pyout",
       "prompt_number": 6,
       "text": [
        "array([16384,     0,     0,     0,     0,     0, 16384], dtype=int16)"
       ]
      }
     ],
     "prompt_number": 6
    },
    {
     "cell_type": "code",
     "collapsed": false,
     "input": [
      "def find_start_and_end(xf, threshold = 2000):   \n",
      "    start_idx = -1\n",
      " \n",
      "    for k in range(0, len(xf)):\n",
      "        if(np.abs(xf[k])) > threshold:\n",
      "            start_idx = k\n",
      "            break\n",
      "\n",
      "    if(start_idx  < 0):\n",
      "        print \"Unable to detect start of transmission\"\n",
      "        return -1\n",
      "    \n",
      "    end_idx = -1\n",
      "    \n",
      "    for k in range(0, len(xf)):\n",
      "        if(np.abs(xf[len(xf)-k-1])) > threshold:\n",
      "            end_idx = len(xf)-k-1\n",
      "            break\n",
      "\n",
      "    if(end_idx < 0):\n",
      "        print \"Unable to detect end of transmission\"\n",
      "        return -1\n",
      "\n",
      "    return start_idx, end_idx\n",
      "find_start_and_end(hello_convert) #needs to be converted into int64"
     ],
     "language": "python",
     "metadata": {},
     "outputs": [
      {
       "metadata": {},
       "output_type": "pyout",
       "prompt_number": 7,
       "text": [
        "(0, 6)"
       ]
      }
     ],
     "prompt_number": 7
    },
    {
     "cell_type": "code",
     "collapsed": false,
     "input": [
      "hello = string2NPArray('A')\n",
      "\n",
      "extended_byte = extend_250(hello)\n",
      "rate = 8820\n",
      "# t = np.linspace(0,1/8820.0,len(extended_byte)/8820.0)\n",
      "t= np.arange(0, len(extended_byte)/float(rate), 1/float(rate))\n",
      "t_array = []\n",
      "f_c = 1000\n",
      "\n",
      "\n",
      "sig=extended_byte*7500.0*np.cos(2.0*np.pi*f_c*t)\n",
      "            \n",
      "# rate=8820\n",
      "# ts = np.arange(0, len(t_array)/float(rate), 1/float(rate))\n",
      "# mplib.plot(ts,t_array)\n",
      "# mplib.xlim([0,1])\n",
      "mplib.plot(sig)"
     ],
     "language": "python",
     "metadata": {},
     "outputs": [
      {
       "metadata": {},
       "output_type": "pyout",
       "prompt_number": 8,
       "text": [
        "[<matplotlib.lines.Line2D at 0x7ff37d96d190>]"
       ]
      },
      {
       "metadata": {},
       "output_type": "display_data",
       "png": "[encoded data removed]",
       "text": [
        "<matplotlib.figure.Figure at 0x7ff37d9c3390>"
       ]
      }
     ],
     "prompt_number": 8
    },
    {
     "cell_type": "code",
     "collapsed": false,
     "input": [
      "wavfile.write('CyNitya.wav',8820,convert_to_int16(sig))"
     ],
     "language": "python",
     "metadata": {},
     "outputs": [],
     "prompt_number": 9
    },
    {
     "cell_type": "code",
     "collapsed": false,
     "input": [
      "\n",
      "wave = thinkdsp.read_wave('CyNitya.wav')\n",
      "wave.normalize()\n",
      "wave.make_audio()"
     ],
     "language": "python",
     "metadata": {},
     "outputs": [
      {
       "html": [
        "\n",
        "                <audio controls=\"controls\" >\n",
        "                    <source src=\"data:audio/wav;base64,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\" type=\"audio/wav\" />\n",
        "                    Your browser does not support the audio element.\n",
        "                </audio>\n",
        "              "
       ],
       "metadata": {},
       "output_type": "pyout",
       "prompt_number": 10,
       "text": [
        "<IPython.lib.display.Audio at 0x7ff37d9b48d0>"
       ]
      }
     ],
     "prompt_number": 10
    },
    {
     "cell_type": "code",
     "collapsed": false,
     "input": [
      "timeb=sig*np.cos(2.0*np.pi*f_c*t)\n",
      "mplib.plot(timeb)"
     ],
     "language": "python",
     "metadata": {},
     "outputs": [
      {
       "metadata": {},
       "output_type": "pyout",
       "prompt_number": 11,
       "text": [
        "[<matplotlib.lines.Line2D at 0x7ff37d8eb390>]"
       ]
      },
      {
       "metadata": {},
       "output_type": "display_data",
       "png": "[encoded data removed]",
       "text": [
        "<matplotlib.figure.Figure at 0x7ff37d992c10>"
       ]
      }
     ],
     "prompt_number": 11
    },
    {
     "cell_type": "code",
     "collapsed": false,
     "input": [
      "spectrum = np.fft.fftshift(np.fft.fft(timeb))\n",
      "mplib.plot(spectrum)\n"
     ],
     "language": "python",
     "metadata": {},
     "outputs": [
      {
       "output_type": "stream",
       "stream": "stderr",
       "text": [
        "/home/ndhanushkodi/anaconda/lib/python2.7/site-packages/numpy/core/numeric.py:462: ComplexWarning: Casting complex values to real discards the imaginary part\n",
        "  return array(a, dtype, copy=False, order=order)\n"
       ]
      },
      {
       "metadata": {},
       "output_type": "pyout",
       "prompt_number": 12,
       "text": [
        "[<matplotlib.lines.Line2D at 0x7ff37d822fd0>]"
       ]
      },
      {
       "metadata": {},
       "output_type": "display_data",
       "png": "[encoded data removed]",
       "text": [
        "<matplotlib.figure.Figure at 0x7ff37d8ab890>"
       ]
      }
     ],
     "prompt_number": 12
    },
    {
     "cell_type": "code",
     "collapsed": false,
     "input": [
      "# decoded_spec = spectrum[1000:1500]\n",
      "# mplib.plot(decoded_spec)\n",
      "zero =spectrum[0:999]*0\n",
      "decoded_spec=spectrum[1000:1500]\n",
      "zero2=spectrum[1501:2500]*0\n",
      "app1=np.append(zero,decoded_spec)\n",
      "decoded = np.append(app1,zero2)\n",
      "mplib.plot(decoded)"
     ],
     "language": "python",
     "metadata": {},
     "outputs": [
      {
       "metadata": {},
       "output_type": "pyout",
       "prompt_number": 17,
       "text": [
        "[<matplotlib.lines.Line2D at 0x7ff37d49a190>]"
       ]
      },
      {
       "metadata": {},
       "output_type": "display_data",
       "png": "[encoded data removed]",
       "text": [
        "<matplotlib.figure.Figure at 0x7ff37d865210>"
       ]
      }
     ],
     "prompt_number": 17
    },
    {
     "cell_type": "code",
     "collapsed": false,
     "input": [
      "decoded_sig = (np.fft.ifft(decoded))\n",
      "mplib.plot(decoded_sig)\n"
     ],
     "language": "python",
     "metadata": {},
     "outputs": [
      {
       "metadata": {},
       "output_type": "pyout",
       "prompt_number": 21,
       "text": [
        "[<matplotlib.lines.Line2D at 0x7ff37d3c8350>]"
       ]
      },
      {
       "metadata": {},
       "output_type": "display_data",
       "png": "[encoded data removed]",
       "text": [
        "<matplotlib.figure.Figure at 0x7ff37d378790>"
       ]
      }
     ],
     "prompt_number": 21
    },
    {
     "cell_type": "code",
     "collapsed": false,
     "input": [
      "wavfile.write('CyNitya2.wav',8820,convert_to_int16(decoded_sig))\n",
      "wave2 = thinkdsp.read_wave('CyNitya2.wav')\n",
      "wave2.normalize()\n",
      "wave2.make_audio()"
     ],
     "language": "python",
     "metadata": {},
     "outputs": []
    },
    {
     "cell_type": "code",
     "collapsed": false,
     "input": [
      "#decoded_sig has complex numbers, lets look at magnitude.\n",
      "decoded_sig"
     ],
     "language": "python",
     "metadata": {},
     "outputs": []
    },
    {
     "cell_type": "code",
     "collapsed": false,
     "input": [],
     "language": "python",
     "metadata": {},
     "outputs": []
    },
    {
     "cell_type": "code",
     "collapsed": false,
     "input": [],
     "language": "python",
     "metadata": {},
     "outputs": []
    }
   ],
   "metadata": {}
  }
 ]
}