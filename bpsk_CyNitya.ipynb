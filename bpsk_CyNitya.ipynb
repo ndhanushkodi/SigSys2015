{
 "metadata": {
  "name": "",
  "signature": "sha256:6482e415ccdf2889791421f7331f61473eacb1896ca7915796d43b5482b04e44"
 },
 "nbformat": 3,
 "nbformat_minor": 0,
 "worksheets": [
  {
   "cells": [
    {
     "cell_type": "code",
     "collapsed": false,
     "input": [
      "import bpsk\n",
      "import numpy as np\n",
      "import matplotlib.pyplot as mplib\n",
      "import thinkdsp\n",
      "from array import array\n",
      "\n",
      "bpsk.help()"
     ],
     "language": "python",
     "metadata": {},
     "outputs": [
      {
       "output_type": "stream",
       "stream": "stdout",
       "text": [
        "This module provides:\n",
        "\n",
        "     generate_bpsk_signal(bits, rate=8000, symbol_len = 250, freq = 1000):\n",
        "         Returns a numpy array which is a BPSK encoding of bits\n",
        "         1 symbol worth of zeros are added at the beginning and the end to aid detection of transmission start\n",
        "         A 1 bit is added to the beginning to help with synchronization\n",
        "         bits -  a numpy array of 1s and 0s\n",
        "         rate - sample rate used\n",
        "         symbol_len - length in samples of the rectangular pulse used to encode the bits\n",
        "         freq - carrier frequency in Hz\n",
        "\n",
        "     decode_bpsk_signal(x, freq=1000, rate = 8000, symbol_len = 250, detection_threshold_factor = 0.3, LPFbw = 320):\n",
        "         Decodes a received BPSK signal in vector x and produces a numpyarray of bits \n",
        "         The function uses a brute-force approach to carrier phase synchronization by checking 16 evenly spaced\n",
        "         phase offsets between -pi and pi to find the one which results in the strongest demodulated signal\n",
        "         which is then used as the demodulated signal\n",
        "         The first bit is assumed to be a control bit that always equals 1. This bit is not returned in the final output\n",
        "         x - a numpy array of the received audio samples\n",
        "         freq - carrier frequency \n",
        "         rate - sample rate used \n",
        "         symbol_len - length in samples of the rectangular pulse\n",
        "         detection_threshold_factor - this is used for detecting the start and end of transmission\n",
        "                                      the start of transmission is the first sample that exceeds\n",
        "                                      detection_threshold_factor times the maximum value in x\n",
        "                                      the end of transmission is the last sample that exceeds\n",
        "                                      detection_threshold_factor times the maximum value in x\n",
        "         LPFbw - this is the bandwidth in rad/sec of the low-pass filter that is used after\n",
        "                 multiplying with a cosine\n"
       ]
      }
     ],
     "prompt_number": 25
    },
    {
     "cell_type": "heading",
     "level": 2,
     "metadata": {},
     "source": [
      "bpsk.generate_bpsk_signal"
     ]
    },
    {
     "cell_type": "code",
     "collapsed": false,
     "input": [
      "c = 'Hello'\n",
      "s_byte = bytearray(c,'ascii')"
     ],
     "language": "python",
     "metadata": {},
     "outputs": [],
     "prompt_number": 26
    },
    {
     "cell_type": "code",
     "collapsed": false,
     "input": [
      "def string2NPArray(s):\n",
      "    bits = np.array([])\n",
      "    for a in bytearray(s, 'ascii'):\n",
      "        for b in range(0,7):\n",
      "            bits = np.append(bits,float((a>>(7-b-1))&1))\n",
      "    return bits"
     ],
     "language": "python",
     "metadata": {},
     "outputs": [],
     "prompt_number": 27
    },
    {
     "cell_type": "code",
     "collapsed": false,
     "input": [
      "hello = string2NPArray(c)\n",
      "hello"
     ],
     "language": "python",
     "metadata": {},
     "outputs": [
      {
       "metadata": {},
       "output_type": "pyout",
       "prompt_number": 28,
       "text": [
        "array([ 1.,  0.,  0.,  1.,  0.,  0.,  0.,  1.,  1.,  0.,  0.,  1.,  0.,\n",
        "        1.,  1.,  1.,  0.,  1.,  1.,  0.,  0.,  1.,  1.,  0.,  1.,  1.,\n",
        "        0.,  0.,  1.,  1.,  0.,  1.,  1.,  1.,  1.])"
       ]
      }
     ],
     "prompt_number": 28
    },
    {
     "cell_type": "code",
     "collapsed": false,
     "input": [
      "def convert_to_int16(sig):\n",
      "    # convert into int16  to write as wave\n",
      "    sig = (sig/np.max(sig))*(2**14)\n",
      "    sig = sig.astype('int16')\n",
      "    return sig\n",
      "\n",
      "hello_convert = convert_to_int16(hello)\n",
      "hello_convert"
     ],
     "language": "python",
     "metadata": {},
     "outputs": [
      {
       "metadata": {},
       "output_type": "pyout",
       "prompt_number": 29,
       "text": [
        "array([16384,     0,     0, 16384,     0,     0,     0, 16384, 16384,\n",
        "           0,     0, 16384,     0, 16384, 16384, 16384,     0, 16384,\n",
        "       16384,     0,     0, 16384, 16384,     0, 16384, 16384,     0,\n",
        "           0, 16384, 16384,     0, 16384, 16384, 16384, 16384], dtype=int16)"
       ]
      }
     ],
     "prompt_number": 29
    },
    {
     "cell_type": "code",
     "collapsed": false,
     "input": [
      "def find_start_and_end(xf, threshold = 2000):   \n",
      "    start_idx = -1\n",
      " \n",
      "    for k in range(0, len(xf)):\n",
      "        if(np.abs(xf[k])) > threshold:\n",
      "            start_idx = k\n",
      "            break\n",
      "\n",
      "    if(start_idx  < 0):\n",
      "        print \"Unable to detect start of transmission\"\n",
      "        return -1\n",
      "    \n",
      "    end_idx = -1\n",
      "    \n",
      "    for k in range(0, len(xf)):\n",
      "        if(np.abs(xf[len(xf)-k-1])) > threshold:\n",
      "            end_idx = len(xf)-k-1\n",
      "            break\n",
      "\n",
      "    if(end_idx < 0):\n",
      "        print \"Unable to detect end of transmission\"\n",
      "        return -1\n",
      "\n",
      "    return start_idx, end_idx\n",
      "find_start_and_end(hello_convert) #needs to be converted into int64"
     ],
     "language": "python",
     "metadata": {},
     "outputs": [
      {
       "metadata": {},
       "output_type": "pyout",
       "prompt_number": 30,
       "text": [
        "(0, 34)"
       ]
      }
     ],
     "prompt_number": 30
    },
    {
     "cell_type": "code",
     "collapsed": false,
     "input": [
      "def make_symbol(arr):\n",
      "    sig = []\n",
      "    for i in arr:\n",
      "        if(i==1):\n",
      "            sig.extend(np.asarray(250*[1.0]))\n",
      "        if(i==0):\n",
      "            sig.extend(np.asarray(250*[0.0]))\n",
      "    return np.asarray(sig)\n",
      "t=np.linspace(0,1,10000)\n",
      "bits = make_symbol(np.array([1,0,0,1,1,0,0,1,1,0,0,1,1,0,0,1,1,0,0,1,1,0,0,1,1,0,0,1,1,0,0,1,1,0,0,1,1,0,0,1]))\n",
      "bpsk = bits*np.cos(2*np.pi*1000*t)\n",
      "# f_c=1000\n",
      "# sum_bpsk=[]\n",
      "# for i in bits:\n",
      "#     if i == 0:\n",
      "#         bpsk_zero = -np.sqrt(2*E_s/T_b)*np.cos(2*np.pi*f_c*t)\n",
      "#         sum_bpsk.append(bpsk_zero)\n",
      "#     else:\n",
      "#         bpsk_one = np.sqrt(2*E_s/T_b)*np.cos(2*np.pi*f_c*t)\n",
      "#         sum_bpsk.append(bpsk_one)\n",
      "\n",
      "mplib.plot(bpsk)\n",
      "#mplib.xlim([3500,4500])"
     ],
     "language": "python",
     "metadata": {},
     "outputs": [
      {
       "metadata": {},
       "output_type": "pyout",
       "prompt_number": 34,
       "text": [
        "[<matplotlib.lines.Line2D at 0x7f7d54533090>]"
       ]
      },
      {
       "metadata": {},
       "output_type": "display_data",
       "png": "[encoded data removed]",
       "text": [
        "<matplotlib.figure.Figure at 0x7f7d922bd890>"
       ]
      }
     ],
     "prompt_number": 34
    },
    {
     "cell_type": "code",
     "collapsed": false,
     "input": [
      "# generate_bpsk_signal(bits, rate=8000, symbol_len = 250, freq = 1000):\n",
      "#          Returns a numpy array which is a BPSK encoding of bits\n",
      "#          1 symbol worth of zeros are added at the beginning and the end to aid detection of transmission start\n",
      "#          A 1 bit is added to the beginning to help with synchronization\n",
      "#          bits -  a numpy array of 1s and 0s\n",
      "#          rate - sample rate used\n",
      "#          symbol_len - length in samples of the rectangular pulse used to encode the bits\n",
      "#          freq - carrier frequency in Hz\n",
      "\n",
      "\n",
      "\n",
      "c = 'AAAAA'\n",
      "s_byte = bytearray(c,'ascii')\n",
      "hello = string2NPArray(c)\n",
      "hello_convert = convert_to_int16(hello)\n",
      "hello_convert\n",
      "\n",
      "#E_s is energy of the system\n",
      "T_b = 3\n",
      "f_c = 8280\n",
      "t = np.linspace(1,0.015,2)\n",
      "sum_bpsk = []\n",
      "E_s = 2\n",
      "for i in hello_convert:\n",
      "    if i == 0:\n",
      "        bpsk_zero = -np.sqrt(2*E_s/T_b)*np.cos(2*np.pi*f_c*t)\n",
      "        sum_bpsk.append(bpsk_zero)\n",
      "    else:\n",
      "        bpsk_one = np.sqrt(2*E_s/T_b)*np.cos(2*np.pi*f_c*t)\n",
      "        sum_bpsk.append(bpsk_one)\n",
      "\n",
      "#bpsk_zero = -np.sqrt(2*E_s/T_b)*np.cos(2*np.pi*f_c*t)\n",
      "mplib.plot(sum_bpsk)"
     ],
     "language": "python",
     "metadata": {},
     "outputs": []
    },
    {
     "cell_type": "code",
     "collapsed": false,
     "input": [
      "string2NPArray('A')"
     ],
     "language": "python",
     "metadata": {},
     "outputs": []
    },
    {
     "cell_type": "code",
     "collapsed": false,
     "input": [
      "bpsk_zero = -np.sqrt(2*E_s/T_b)*np.cos(2*np.pi*f_c*t)\n",
      "bpsk_zero"
     ],
     "language": "python",
     "metadata": {},
     "outputs": [
      {
       "metadata": {},
       "output_type": "pyout",
       "prompt_number": 32,
       "text": [
        "array([-1.        , -0.80898006, -0.30889747, ..., -0.30889747,\n",
        "       -0.80898006, -1.        ])"
       ]
      }
     ],
     "prompt_number": 32
    },
    {
     "cell_type": "code",
     "collapsed": false,
     "input": [],
     "language": "python",
     "metadata": {},
     "outputs": [],
     "prompt_number": 32
    },
    {
     "cell_type": "code",
     "collapsed": false,
     "input": [],
     "language": "python",
     "metadata": {},
     "outputs": [],
     "prompt_number": 32
    },
    {
     "cell_type": "code",
     "collapsed": false,
     "input": [],
     "language": "python",
     "metadata": {},
     "outputs": [],
     "prompt_number": 32
    },
    {
     "cell_type": "code",
     "collapsed": false,
     "input": [],
     "language": "python",
     "metadata": {},
     "outputs": []
    }
   ],
   "metadata": {}
  }
 ]
}