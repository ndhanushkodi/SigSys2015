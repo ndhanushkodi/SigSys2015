{
 "metadata": {
  "name": "",
  "signature": "sha256:cb406816fb641faa53962201014610e8cf8bf9d13974e765888f26242598effc"
 },
 "nbformat": 3,
 "nbformat_minor": 0,
 "worksheets": [
  {
   "cells": [
    {
     "cell_type": "code",
     "collapsed": false,
     "input": [
      "from scipy.io import wavfile\n",
      "import bpsk\n",
      "import numpy as np\n",
      "import matplotlib.pyplot as mplib\n",
      "import thinkdsp\n",
      "from array import array\n",
      "\n",
      "bpsk.help()"
     ],
     "language": "python",
     "metadata": {},
     "outputs": [
      {
       "output_type": "stream",
       "stream": "stdout",
       "text": [
        "This module provides:\n",
        "\n",
        "     generate_bpsk_signal(bits, rate=8000, symbol_len = 250, freq = 1000):\n",
        "         Returns a numpy array which is a BPSK encoding of bits\n",
        "         1 symbol worth of zeros are added at the beginning and the end to aid detection of transmission start\n",
        "         A 1 bit is added to the beginning to help with synchronization\n",
        "         bits -  a numpy array of 1s and 0s\n",
        "         rate - sample rate used\n",
        "         symbol_len - length in samples of the rectangular pulse used to encode the bits\n",
        "         freq - carrier frequency in Hz\n",
        "\n",
        "     decode_bpsk_signal(x, freq=1000, rate = 8000, symbol_len = 250, detection_threshold_factor = 0.3, LPFbw = 320):\n",
        "         Decodes a received BPSK signal in vector x and produces a numpyarray of bits \n",
        "         The function uses a brute-force approach to carrier phase synchronization by checking 16 evenly spaced\n",
        "         phase offsets between -pi and pi to find the one which results in the strongest demodulated signal\n",
        "         which is then used as the demodulated signal\n",
        "         The first bit is assumed to be a control bit that always equals 1. This bit is not returned in the final output\n",
        "         x - a numpy array of the received audio samples\n",
        "         freq - carrier frequency \n",
        "         rate - sample rate used \n",
        "         symbol_len - length in samples of the rectangular pulse\n",
        "         detection_threshold_factor - this is used for detecting the start and end of transmission\n",
        "                                      the start of transmission is the first sample that exceeds\n",
        "                                      detection_threshold_factor times the maximum value in x\n",
        "                                      the end of transmission is the last sample that exceeds\n",
        "                                      detection_threshold_factor times the maximum value in x\n",
        "         LPFbw - this is the bandwidth in rad/sec of the low-pass filter that is used after\n",
        "                 multiplying with a cosine\n"
       ]
      }
     ],
     "prompt_number": 24
    },
    {
     "cell_type": "heading",
     "level": 2,
     "metadata": {},
     "source": [
      "bpsk.generate_bpsk_signal"
     ]
    },
    {
     "cell_type": "code",
     "collapsed": false,
     "input": [
      "c = 'Hello'\n",
      "s_byte = bytearray(c,'ascii')"
     ],
     "language": "python",
     "metadata": {},
     "outputs": [],
     "prompt_number": 25
    },
    {
     "cell_type": "code",
     "collapsed": false,
     "input": [
      "def string2NPArray(s):\n",
      "    bits = np.array([])\n",
      "    for a in bytearray(s, 'ascii'):\n",
      "        for b in range(0,7):\n",
      "            bits = np.append(bits,float((a>>(7-b-1))&1))\n",
      "    return bits"
     ],
     "language": "python",
     "metadata": {},
     "outputs": [],
     "prompt_number": 26
    },
    {
     "cell_type": "code",
     "collapsed": false,
     "input": [
      "hello = string2NPArray('AB')\n",
      "hello\n",
      "\n",
      "def extend_250(bits):\n",
      "    new = []\n",
      "    new.extend(250*[0])\n",
      "    new.extend(250*[1.0])\n",
      "    for i in bits:\n",
      "        if i == 1:\n",
      "            new.extend(np.asarray(250*[1.0]))\n",
      "        else:\n",
      "            new.extend(np.asarray(250*[-1.0]))\n",
      "    new.extend(np.asarray(250*[0]))\n",
      "    return np.asarray(new)\n",
      "len(extend_250(hello))"
     ],
     "language": "python",
     "metadata": {},
     "outputs": [
      {
       "metadata": {},
       "output_type": "pyout",
       "prompt_number": 510,
       "text": [
        "4250"
       ]
      }
     ],
     "prompt_number": 510
    },
    {
     "cell_type": "code",
     "collapsed": false,
     "input": [
      "def convert_to_int16(sig):\n",
      "    # convert into int16  to write as wave\n",
      "    sig = (sig/np.max(sig))*(2**14)\n",
      "    sig = sig.astype('int16')\n",
      "    return sig\n",
      "\n",
      "hello_convert = convert_to_int16(hello)\n",
      "hello_convert"
     ],
     "language": "python",
     "metadata": {},
     "outputs": [
      {
       "metadata": {},
       "output_type": "pyout",
       "prompt_number": 511,
       "text": [
        "array([16384,     0,     0,     0,     0,     0, 16384, 16384,     0,\n",
        "           0,     0,     0, 16384,     0], dtype=int16)"
       ]
      }
     ],
     "prompt_number": 511
    },
    {
     "cell_type": "code",
     "collapsed": false,
     "input": [
      "def find_start_and_end(xf, threshold = 2000):   \n",
      "    start_idx = -1\n",
      " \n",
      "    for k in range(0, len(xf)):\n",
      "        if(np.abs(xf[k])) > threshold:\n",
      "            start_idx = k\n",
      "            break\n",
      "\n",
      "    if(start_idx  < 0):\n",
      "        print \"Unable to detect start of transmission\"\n",
      "        return -1\n",
      "    \n",
      "    end_idx = -1\n",
      "    \n",
      "    for k in range(0, len(xf)):\n",
      "        if(np.abs(xf[len(xf)-k-1])) > threshold:\n",
      "            end_idx = len(xf)-k-1\n",
      "            break\n",
      "\n",
      "    if(end_idx < 0):\n",
      "        print \"Unable to detect end of transmission\"\n",
      "        return -1\n",
      "\n",
      "    return start_idx, end_idx\n",
      "find_start_and_end(hello_convert) #needs to be converted into int64"
     ],
     "language": "python",
     "metadata": {},
     "outputs": [
      {
       "metadata": {},
       "output_type": "pyout",
       "prompt_number": 512,
       "text": [
        "(0, 12)"
       ]
      }
     ],
     "prompt_number": 512
    },
    {
     "cell_type": "code",
     "collapsed": false,
     "input": [
      "hello = string2NPArray('AB')\n",
      "\n",
      "rate=8820\n",
      "extended_byte = extend_250(hello)\n",
      "t = np.arange(0, len(extended_byte)/float(rate), 1/float(rate))\n",
      "t_array = []\n",
      "f_c = 1000\n",
      "\n",
      "sig = extended_byte*7500.0*np.cos(2.0*np.pi*f_c*t)\n",
      "        \n",
      "mplib.plot(sig)"
     ],
     "language": "python",
     "metadata": {},
     "outputs": [
      {
       "metadata": {},
       "output_type": "pyout",
       "prompt_number": 525,
       "text": [
        "[<matplotlib.lines.Line2D at 0x7f28dcf9d6d0>]"
       ]
      },
      {
       "metadata": {},
       "output_type": "display_data",
       "png": "[encoded data removed]",
       "text": [
        "<matplotlib.figure.Figure at 0x7f28dd1ae9d0>"
       ]
      }
     ],
     "prompt_number": 525
    },
    {
     "cell_type": "code",
     "collapsed": false,
     "input": [
      "wavfile.write('CyNitya.wav',8820,convert_to_int16(sig))"
     ],
     "language": "python",
     "metadata": {},
     "outputs": [],
     "prompt_number": 526
    },
    {
     "cell_type": "code",
     "collapsed": false,
     "input": [
      "wave = thinkdsp.read_wave('CyNitya.wav')\n",
      "wave.normalize()\n",
      "wave.make_audio()"
     ],
     "language": "python",
     "metadata": {},
     "outputs": [
      {
       "html": [
        "\n",
        "                <audio controls=\"controls\" >\n",
        "                    <source src=\"data:audio/wav;base64,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\" type=\"audio/wav\" />\n",
        "                    Your browser does not support the audio element.\n",
        "                </audio>\n",
        "              "
       ],
       "metadata": {},
       "output_type": "pyout",
       "prompt_number": 527,
       "text": [
        "<IPython.lib.display.Audio at 0x7f28dd9dc4d0>"
       ]
      }
     ],
     "prompt_number": 527
    },
    {
     "cell_type": "heading",
     "level": 2,
     "metadata": {},
     "source": [
      "bpsk.decode_bpsk_signal"
     ]
    },
    {
     "cell_type": "code",
     "collapsed": false,
     "input": [
      "fs, x = wavfile.read('CyNitya.wav')\n",
      "thinkdsp.Wave(x, framerate=8280).plot()\n",
      "# bits = bpsk.decode_bpsk_signal(x, freq=1000, rate = fs, symbol_len = 250, detection_threshold_factor = 0.4, LPFbw = 320)"
     ],
     "language": "python",
     "metadata": {},
     "outputs": [
      {
       "metadata": {},
       "output_type": "display_data",
       "png": "[encoded data removed]",
       "text": [
        "<matplotlib.figure.Figure at 0x7f28dd191d10>"
       ]
      }
     ],
     "prompt_number": 528
    },
    {
     "cell_type": "code",
     "collapsed": false,
     "input": [
      "rate = fs\n",
      "freq = 1000\n",
      "symbol_len = 250\n",
      "detection_threshold_factor = 0.4\n",
      "LPFbw = 320"
     ],
     "language": "python",
     "metadata": {},
     "outputs": [],
     "prompt_number": 529
    },
    {
     "cell_type": "code",
     "collapsed": false,
     "input": [
      "mplib.plot(x)"
     ],
     "language": "python",
     "metadata": {},
     "outputs": [
      {
       "metadata": {},
       "output_type": "pyout",
       "prompt_number": 530,
       "text": [
        "[<matplotlib.lines.Line2D at 0x7f28dce1aa90>]"
       ]
      },
      {
       "metadata": {},
       "output_type": "display_data",
       "png": "[encoded data removed]",
       "text": [
        "<matplotlib.figure.Figure at 0x7f28dd217510>"
       ]
      }
     ],
     "prompt_number": 530
    },
    {
     "cell_type": "code",
     "collapsed": false,
     "input": [
      "sig_decode= x*np.cos(2*np.pi*freq*t)\n",
      "mplib.plot(sig_decode)"
     ],
     "language": "python",
     "metadata": {},
     "outputs": [
      {
       "metadata": {},
       "output_type": "pyout",
       "prompt_number": 531,
       "text": [
        "[<matplotlib.lines.Line2D at 0x7f28dcd6b350>]"
       ]
      },
      {
       "metadata": {},
       "output_type": "display_data",
       "png": "[encoded data removed]",
       "text": [
        "<matplotlib.figure.Figure at 0x7f28dcded7d0>"
       ]
      }
     ],
     "prompt_number": 531
    },
    {
     "cell_type": "code",
     "collapsed": false,
     "input": [
      "spectrum_sig = np.fft.fftshift(np.fft.fft(sig_decode))\n",
      "mplib.plot(spectrum_sig)"
     ],
     "language": "python",
     "metadata": {},
     "outputs": [
      {
       "metadata": {},
       "output_type": "pyout",
       "prompt_number": 532,
       "text": [
        "[<matplotlib.lines.Line2D at 0x7f28dccaf790>]"
       ]
      },
      {
       "metadata": {},
       "output_type": "display_data",
       "png": "[encoded data removed]",
       "text": [
        "<matplotlib.figure.Figure at 0x7f28dcd3cfd0>"
       ]
      }
     ],
     "prompt_number": 532
    },
    {
     "cell_type": "code",
     "collapsed": false,
     "input": [
      "t = np.arange(0, len(sig_decode)/float(rate), 1/float(rate))\n",
      "h = np.sinc(2*t*1000)\n",
      "convolved = np.convolve(sig_decode,h)\n",
      "spectrum_con = np.fft.fftshift(np.fft.fft(convolved))\n",
      "mplib.plot(convolved)\n",
      "# mplib.plot(convolved)"
     ],
     "language": "python",
     "metadata": {},
     "outputs": [
      {
       "metadata": {},
       "output_type": "pyout",
       "prompt_number": 664,
       "text": [
        "[<matplotlib.lines.Line2D at 0x7f28d3f9a190>]"
       ]
      },
      {
       "metadata": {},
       "output_type": "display_data",
       "png": "[encoded data removed]",
       "text": [
        "<matplotlib.figure.Figure at 0x7f28d4406f90>"
       ]
      }
     ],
     "prompt_number": 664
    },
    {
     "cell_type": "code",
     "collapsed": false,
     "input": [
      "np.set_printoptions(threshold='nan')"
     ],
     "language": "python",
     "metadata": {},
     "outputs": [],
     "prompt_number": 665
    },
    {
     "cell_type": "code",
     "collapsed": false,
     "input": [
      "j = []\n",
      "for i in convolved:\n",
      "    if i > 0:\n",
      "        j.append(1)\n",
      "    else:\n",
      "        j.append(0)\n",
      "mplib.plot(j)\n",
      "mplib.xlim([0,750])"
     ],
     "language": "python",
     "metadata": {},
     "outputs": [
      {
       "metadata": {},
       "output_type": "pyout",
       "prompt_number": 667,
       "text": [
        "(0, 750)"
       ]
      },
      {
       "metadata": {},
       "output_type": "display_data",
       "png": "[encoded data removed]",
       "text": [
        "<matplotlib.figure.Figure at 0x7f28d458f850>"
       ]
      }
     ],
     "prompt_number": 667
    },
    {
     "cell_type": "code",
     "collapsed": false,
     "input": [
      "count = 0\n",
      "\n",
      "for l in j:\n",
      "    if l == 0:\n",
      "        count += 1\n",
      "    else:\n",
      "        break\n",
      "        \n",
      "print count, j[250]\n",
      "\n",
      "j2 = j[count:]\n",
      "\n",
      "count = 0\n",
      "for i in j2:\n",
      "    if i == 1:\n",
      "        count +=1\n",
      "    else:\n",
      "        break\n",
      "count"
     ],
     "language": "python",
     "metadata": {},
     "outputs": [
      {
       "output_type": "stream",
       "stream": "stdout",
       "text": [
        "250 1\n"
       ]
      },
      {
       "metadata": {},
       "output_type": "pyout",
       "prompt_number": 628,
       "text": [
        "502"
       ]
      }
     ],
     "prompt_number": 628
    },
    {
     "cell_type": "code",
     "collapsed": false,
     "input": [
      "for i in range(250):\n",
      "   if j[i]==1:\n",
      "        count1+=1\n",
      "    if j[i]==0:\n",
      "        count0+=1"
     ],
     "language": "python",
     "metadata": {},
     "outputs": [
      {
       "output_type": "stream",
       "stream": "stdout",
       "text": [
        "0\n",
        "1\n",
        "2\n",
        "3\n",
        "4\n",
        "5\n",
        "6\n",
        "7\n",
        "8\n",
        "9\n",
        "10\n",
        "11\n",
        "12\n",
        "13\n",
        "14\n",
        "15\n",
        "16\n",
        "17\n",
        "18\n",
        "19\n",
        "20\n",
        "21\n",
        "22\n",
        "23\n",
        "24\n",
        "25\n",
        "26\n",
        "27\n",
        "28\n",
        "29\n",
        "30\n",
        "31\n",
        "32\n",
        "33\n",
        "34\n",
        "35\n",
        "36\n",
        "37\n",
        "38\n",
        "39\n",
        "40\n",
        "41\n",
        "42\n",
        "43\n",
        "44\n",
        "45\n",
        "46\n",
        "47\n",
        "48\n",
        "49\n",
        "50\n",
        "51\n",
        "52\n",
        "53\n",
        "54\n",
        "55\n",
        "56\n",
        "57\n",
        "58\n",
        "59\n",
        "60\n",
        "61\n",
        "62\n",
        "63\n",
        "64\n",
        "65\n",
        "66\n",
        "67\n",
        "68\n",
        "69\n",
        "70\n",
        "71\n",
        "72\n",
        "73\n",
        "74\n",
        "75\n",
        "76\n",
        "77\n",
        "78\n",
        "79\n",
        "80\n",
        "81\n",
        "82\n",
        "83\n",
        "84\n",
        "85\n",
        "86\n",
        "87\n",
        "88\n",
        "89\n",
        "90\n",
        "91\n",
        "92\n",
        "93\n",
        "94\n",
        "95\n",
        "96\n",
        "97\n",
        "98\n",
        "99\n",
        "100\n",
        "101\n",
        "102\n",
        "103\n",
        "104\n",
        "105\n",
        "106\n",
        "107\n",
        "108\n",
        "109\n",
        "110\n",
        "111\n",
        "112\n",
        "113\n",
        "114\n",
        "115\n",
        "116\n",
        "117\n",
        "118\n",
        "119\n",
        "120\n",
        "121\n",
        "122\n",
        "123\n",
        "124\n",
        "125\n",
        "126\n",
        "127\n",
        "128\n",
        "129\n",
        "130\n",
        "131\n",
        "132\n",
        "133\n",
        "134\n",
        "135\n",
        "136\n",
        "137\n",
        "138\n",
        "139\n",
        "140\n",
        "141\n",
        "142\n",
        "143\n",
        "144\n",
        "145\n",
        "146\n",
        "147\n",
        "148\n",
        "149\n",
        "150\n",
        "151\n",
        "152\n",
        "153\n",
        "154\n",
        "155\n",
        "156\n",
        "157\n",
        "158\n",
        "159\n",
        "160\n",
        "161\n",
        "162\n",
        "163\n",
        "164\n",
        "165\n",
        "166\n",
        "167\n",
        "168\n",
        "169\n",
        "170\n",
        "171\n",
        "172\n",
        "173\n",
        "174\n",
        "175\n",
        "176\n",
        "177\n",
        "178\n",
        "179\n",
        "180\n",
        "181\n",
        "182\n",
        "183\n",
        "184\n",
        "185\n",
        "186\n",
        "187\n",
        "188\n",
        "189\n",
        "190\n",
        "191\n",
        "192\n",
        "193\n",
        "194\n",
        "195\n",
        "196\n",
        "197\n",
        "198\n",
        "199\n",
        "200\n",
        "201\n",
        "202\n",
        "203\n",
        "204\n",
        "205\n",
        "206\n",
        "207\n",
        "208\n",
        "209\n",
        "210\n",
        "211\n",
        "212\n",
        "213\n",
        "214\n",
        "215\n",
        "216\n",
        "217\n",
        "218\n",
        "219\n",
        "220\n",
        "221\n",
        "222\n",
        "223\n",
        "224\n",
        "225\n",
        "226\n",
        "227\n",
        "228\n",
        "229\n",
        "230\n",
        "231\n",
        "232\n",
        "233\n",
        "234\n",
        "235\n",
        "236\n",
        "237\n",
        "238\n",
        "239\n",
        "240\n",
        "241\n",
        "242\n",
        "243\n",
        "244\n",
        "245\n",
        "246\n",
        "247\n",
        "248\n",
        "249\n"
       ]
      }
     ],
     "prompt_number": 639
    },
    {
     "cell_type": "code",
     "collapsed": false,
     "input": [],
     "language": "python",
     "metadata": {},
     "outputs": []
    }
   ],
   "metadata": {}
  }
 ]
}