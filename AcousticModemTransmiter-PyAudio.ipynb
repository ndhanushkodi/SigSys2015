{
 "metadata": {
  "name": "",
  "signature": "sha256:cc72186d3baed5bdbaabccd20e3efe3cd45883d66939099b0b919fc94cd1ff03"
 },
 "nbformat": 3,
 "nbformat_minor": 0,
 "worksheets": [
  {
   "cells": [
    {
     "cell_type": "code",
     "collapsed": false,
     "input": [
      "import numpy as np\n",
      "import pyaudio\n",
      "from array import array\n",
      "import matplotlib.pyplot as mplib\n",
      "\n",
      "# This function converts a string into a numpy array of bits\n",
      "# note that it is assumed that each character is 7 bits long here\n",
      "def string2NPArray(s):\n",
      "    bits = np.array([])\n",
      "    for a in bytearray(s, 'ascii'):\n",
      "        for b in range(0,7):\n",
      "            bits = np.append(bits,float((a>>(7-b-1))&1))\n",
      "    return bits\n",
      "\n",
      "# This function converts a numpy array of bits to a string\n",
      "# note that it is assumed that each character is 7 bits long here\n",
      "def NPbits2String(bits):\n",
      "    S = \"\"\n",
      "    for a in np.arange(0, np.ceil(len(bits)/7)):\n",
      "        tmp = 0\n",
      "        for k in np.arange(0,7):\n",
      "            b = bits[a*7+k]\n",
      "            tmp = tmp + (2**(6-k))*b\n",
      "        S = S + chr(int(tmp))\n",
      "    return S\n",
      "\n",
      "\n",
      "# this function plays samples through the speaker\n",
      "# at sample rate of rate\n",
      "def play_samples(x, rate=8000, chunk_size = 1000):\n",
      "   \n",
      "    p = pyaudio.PyAudio()\n",
      "    stream = p.open(format= pyaudio.paInt16, channels=1, rate=rate,\n",
      "        input=False, output=True,\n",
      "        frames_per_buffer=len(x))\n",
      "    stream.write(x.astype(np.int16).tostring())\n",
      "    stream.stop_stream()\n",
      "    stream.close()\n",
      "    p.terminate()\n",
      "    \n",
      "\n",
      "# this is a utility function that  finds the start and  end \n",
      "# of transmission in the numpy array of samples xf\n",
      "# The function looks for the first instance where the entries of xf\n",
      "# go above threshold and returns the index into xf where this happens\n",
      "# in start_idx\n",
      "# The function looks for the last instance where the entries of xf\n",
      "# are above threshold and returns the index into xf where this happens\n",
      "# in end_idx\n",
      "# \n",
      "# You will probably have to do some trial and error to get the threshold right\n",
      "# one possibility is to se the threshold equal to some factor of the maximum value\n",
      "# in the input signal,  e.g. 0.3 * maximum value in xf\n",
      "#\n",
      "def find_start_and_end(xf, threshold = 2000): \n",
      "    import numpy as np    \n",
      "    start_idx = -1\n",
      " \n",
      "    for k in range(0, len(xf)):\n",
      "        if(np.abs(xf[k])) > threshold:\n",
      "            start_idx = k\n",
      "            break\n",
      "\n",
      "    if(start_idx  < 0):\n",
      "        print \"Unable to detect start of transmission\"\n",
      "        return -1\n",
      "    \n",
      "    end_idx = -1\n",
      "    \n",
      "    for k in range(0, len(xf)):\n",
      "        if(np.abs(xf[len(xf)-k-1])) > threshold:\n",
      "            end_idx = len(xf)-k-1\n",
      "            break\n",
      "\n",
      "    if(end_idx < 0):\n",
      "        print \"Unable to detect end of transmission\"\n",
      "        return -1\n",
      "\n",
      "    return start_idx, end_idx\n",
      "\n",
      "    "
     ],
     "language": "python",
     "metadata": {},
     "outputs": [],
     "prompt_number": 1
    },
    {
     "cell_type": "markdown",
     "metadata": {},
     "source": [
      "bpsk is a module that is provided as python bytecode. bpsk.help() provides the syntax and definitions of the parameters of the functions that are included in the bpsk module"
     ]
    },
    {
     "cell_type": "code",
     "collapsed": false,
     "input": [
      "import bpsk\n",
      "\n",
      "bpsk.help()"
     ],
     "language": "python",
     "metadata": {},
     "outputs": [
      {
       "output_type": "stream",
       "stream": "stdout",
       "text": [
        "This module provides:\n",
        "\n",
        "     generate_bpsk_signal(bits, rate=8000, symbol_len = 250, freq = 1000):\n",
        "         Returns a numpy array which is a BPSK encoding of bits\n",
        "         1 symbol worth of zeros are added at the beginning and the end to aid detection of transmission start\n",
        "         A 1 bit is added to the beginning to help with synchronization\n",
        "         bits -  a numpy array of 1s and 0s\n",
        "         rate - sample rate used\n",
        "         symbol_len - length in samples of the rectangular pulse used to encode the bits\n",
        "         freq - carrier frequency in Hz\n",
        "\n",
        "     decode_bpsk_signal(x, freq=1000, rate = 8000, symbol_len = 250, detection_threshold_factor = 0.3, LPFbw = 320):\n",
        "         Decodes a received BPSK signal in vector x and produces a numpyarray of bits \n",
        "         The function uses a brute-force approach to carrier phase synchronization by checking 16 evenly spaced\n",
        "         phase offsets between -pi and pi to find the one which results in the strongest demodulated signal\n",
        "         which is then used as the demodulated signal\n",
        "         The first bit is assumed to be a control bit that always equals 1. This bit is not returned in the final output\n",
        "         x - a numpy array of the received audio samples\n",
        "         freq - carrier frequency \n",
        "         rate - sample rate used \n",
        "         symbol_len - length in samples of the rectangular pulse\n",
        "         detection_threshold_factor - this is used for detecting the start and end of transmission\n",
        "                                      the start of transmission is the first sample that exceeds\n",
        "                                      detection_threshold_factor times the maximum value in x\n",
        "                                      the end of transmission is the last sample that exceeds\n",
        "                                      detection_threshold_factor times the maximum value in x\n",
        "         LPFbw - this is the bandwidth in rad/sec of the low-pass filter that is used after\n",
        "                 multiplying with a cosine\n"
       ]
      }
     ],
     "prompt_number": 2
    },
    {
     "cell_type": "markdown",
     "metadata": {},
     "source": [
      "The following cell generates a bpsk signal and plays it through the sound card\n",
      "Your job will be to make your own function that generates the transmitted signal, i.e. your own version of bpsk.generate_bpsk_signal"
     ]
    },
    {
     "cell_type": "code",
     "collapsed": false,
     "input": [
      "bits = string2NPArray(\"Hello\")\n",
      "x = bpsk.generate_bpsk_signal(bits, rate = 8820, symbol_len = 250, freq = 1000)\n",
      "\n",
      "rate = 8820\n",
      "# plot the signal to visualize\n",
      "# first make a vector to represent the sampling times\n",
      "# the times range from t = 0 up to the length of the data samples times the sampling period\n",
      "ts = np.arange(0, len(x)/float(rate), 1/float(rate))\n",
      "# plot the signal in the time domain\n",
      "# you should zoom in to see the BPSK signal\n",
      "mplib.plot(ts, x)\n",
      "mplib.show()\n",
      "\n",
      "\n"
     ],
     "language": "python",
     "metadata": {},
     "outputs": [],
     "prompt_number": 15
    },
    {
     "cell_type": "code",
     "collapsed": false,
     "input": [
      "# play the samples on the soundcard\n",
      "play_samples(x, rate=8820, chunk_size = 1000)\n"
     ],
     "language": "python",
     "metadata": {},
     "outputs": [],
     "prompt_number": 19
    },
    {
     "cell_type": "code",
     "collapsed": false,
     "input": [],
     "language": "python",
     "metadata": {},
     "outputs": []
    }
   ],
   "metadata": {}
  }
 ]
}