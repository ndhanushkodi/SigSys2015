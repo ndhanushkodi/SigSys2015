{
 "metadata": {
  "name": "",
  "signature": "sha256:010a4510ac90a245bf5ec2321c7c39f5624651096d8721764716b673eada5fe1"
 },
 "nbformat": 3,
 "nbformat_minor": 0,
 "worksheets": [
  {
   "cells": [
    {
     "cell_type": "markdown",
     "metadata": {},
     "source": [
      "In this exercise, you will decode two amplitude-modulated signals. The exercise illustrates the concept of frequency-division multiple access, whereby different users use different frequencies to communicate information. One simple example is in AM radio, where different stations operate in different frequency bands.\n",
      "\n",
      "The following cell contains some helper functions that you may find useful. \n",
      "Please install the pyaudio module before running this code\n"
     ]
    },
    {
     "cell_type": "code",
     "collapsed": false,
     "input": [
      "from scipy.io import wavfile\n",
      "import numpy as np\n",
      "import matplotlib.pyplot as mplib\n",
      "import thinkdsp\n",
      "\n",
      "# this function is used to help convert numpy array data into a format\n",
      "# suitable for writing into a wave file\n",
      "def convert_to_int16(sig):\n",
      "    # convert into int16  to write as wave\n",
      "    sig = (sig/np.max(sig))*(2**14)\n",
      "    sig = sig.astype('int16')\n",
      "    return sig\n",
      "\n"
     ],
     "language": "python",
     "metadata": {},
     "outputs": [],
     "prompt_number": 2
    },
    {
     "cell_type": "markdown",
     "metadata": {},
     "source": [
      "In the following cell, a signal from a wavefile is loaded into sig.\n",
      "The wavefile contains an audio signal which is made up of the sum of \n",
      "2 audio segments amplitude modulated at 8kHz and 3kHz each.\n",
      "The base-band signals have a bandwidth of ~2kHz.\n",
      "\n",
      "The audio segments can be played by first writing to wav files and then playing them using the thinkdsp routines for audio playback.\n",
      "\n",
      "Your job is to demodulate the two audio waveforms that are encoded in sig and play them. \n",
      "You should hear an electric guitar and a violin "
     ]
    },
    {
     "cell_type": "code",
     "collapsed": false,
     "input": [
      "# these are the two frequencies (in Hz) of the modulated waveforms\n",
      "f1 = 8000\n",
      "f2 = 3000\n",
      "\n",
      "# read the wave file into sig\n",
      "fs, sig = wavfile.read('TwoAM8k3k.wav')\n",
      "\n",
      "#play_samples(convert_to_int16(sig), rate=fs, chunk_size = 8000)\n",
      "\n",
      "# create a vector of the sampling times\n",
      "ts = np.arange(0, float(len(sig))/float(fs), 1.0/fs)\n",
      "# create a vector of frequencies\n",
      "freqs = np.linspace(-np.pi*fs, np.pi*fs*(float(len(sig))-1)/float(len(sig)), len(sig))\n",
      "\n",
      "# plot the time domain waveform to visualize\n",
      "mplib.subplot(411)\n",
      "mplib.plot(ts, sig)\n",
      "\n",
      "# plot the waveform in the frequency domain\n",
      "mplib.subplot(412)\n",
      "mplib.plot(freqs, np.fft.fftshift(np.abs(np.fft.fft(sig))))\n",
      "mplib.xlabel('Frequency (radians/second)')\n",
      "\n",
      "\n",
      "#######################################################################\n",
      "##  You should enter your code here to demodulate the\n",
      "##  signal at frequencies f1 and f2\n",
      "##  you should call the demodulated signals sig1_demod and sig2_demod\n",
      "##\n",
      "##\n",
      "##  Helpful Hints:\n",
      "##  numpy provides a cosine function: np.cos\n",
      "##  numpy provides a sinc function: np.sinc\n",
      "##  refer to ps07 for how to implement a low-pass filter\n",
      "##\n",
      "#######################################################################\n",
      "Wc = 2000\n",
      "\n",
      "\n",
      "# this is a vector of the sampling times for the signal\n",
      "ts = np.arange(0, len(sig)*1/float(fs), 1/float(fs))\n",
      "# make a new vector of sampling times for the low-pass filter\n",
      "# it doesn't need to be as long as the signal vector as most\n",
      "# of the energy of the sinc function is concentrated around zero\n",
      "ts_filt = np.arange(-64*1/float(fs),63*1/float(fs),1/float(fs))\n",
      "filt = np.sinc(ts_filt/np.pi*Wc*2*np.pi)\n",
      "\n",
      "sig1_demod = sig*np.cos(2*np.pi*f1*ts)\n",
      "sig2_demod = sig*np.cos(2*np.pi*f2*ts)\n",
      "\n",
      "# plot the waveform in the frequency domain\n",
      "mplib.subplot(413)\n",
      "mplib.plot(freqs, np.fft.fftshift(np.abs(np.fft.fft(sig1_demod))))\n",
      "mplib.xlabel('Frequency (radians/second)')\n",
      "\n",
      "# plot the waveform in the frequency domain\n",
      "mplib.subplot(414)\n",
      "mplib.plot(freqs, np.fft.fftshift(np.abs(np.fft.fft(sig2_demod))))\n",
      "mplib.xlabel('Frequency (radians/second)')\n",
      "\n",
      "sig1_demod = np.convolve(sig1_demod, filt)\n",
      "sig2_demod = np.convolve(sig2_demod, filt)\n",
      "\n",
      "# write the wave file for the first signal which is assumed\n",
      "# to  be in stored in the numpy array sig1_demod\n",
      "\n",
      "wavfile.write('Demod1.wav', fs,convert_to_int16(sig1_demod))\n",
      "\n",
      "\n",
      "# write the wave file for the first signal which is assumed\n",
      "# to  be in stored in the numpy array sig2_demod\n",
      "\n",
      "wavfile.write('Demod2.wav', fs,convert_to_int16(sig2_demod))\n",
      "\n",
      "\n",
      "\n",
      "mplib.show()\n"
     ],
     "language": "python",
     "metadata": {},
     "outputs": [],
     "prompt_number": 3
    },
    {
     "cell_type": "code",
     "collapsed": false,
     "input": [
      "# use thinkdsp tools to play the first wave file\n",
      "wave = thinkdsp.read_wave('Demod1.wav')\n",
      "wave.normalize()\n",
      "wave.make_audio()\n",
      "\n"
     ],
     "language": "python",
     "metadata": {},
     "outputs": []
    },
    {
     "cell_type": "code",
     "collapsed": false,
     "input": [
      "# use thinkdsp tools to play the second wave file\n",
      "wave = thinkdsp.read_wave('Demod2.wav')\n",
      "wave.normalize()\n",
      "wave.make_audio()"
     ],
     "language": "python",
     "metadata": {},
     "outputs": []
    }
   ],
   "metadata": {}
  }
 ]
}