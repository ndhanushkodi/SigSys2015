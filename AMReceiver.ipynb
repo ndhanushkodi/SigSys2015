{
 "metadata": {
  "name": "",
  "signature": "sha256:81c4d32515deb5734800141c4eb839ad4d9b2d86e8059ca5d132895f11445fca"
 },
 "nbformat": 3,
 "nbformat_minor": 0,
 "worksheets": [
  {
   "cells": [
    {
     "cell_type": "markdown",
     "metadata": {},
     "source": [
      "In this exercise, you will decode two amplitude-modulated signals. The exercise illustrates the concept of frequency-division multiple access, whereby different users use different frequencies to communicate information. One simple example is in AM radio, where different stations operate in different frequency bands.\n",
      "\n",
      "The following cell contains some helper functions that you may find useful. \n",
      "Please install the pyaudio module before running this code\n"
     ]
    },
    {
     "cell_type": "code",
     "collapsed": false,
     "input": [
      "from scipy.io import wavfile\n",
      "import numpy as np\n",
      "import pyaudio\n",
      "\n",
      "\n",
      "# this function is used to help convert numpy array data into a format\n",
      "# suitable for writing into a wave file\n",
      "def convert_to_int16(sig):\n",
      "    # convert into int16  to write as wave\n",
      "    sig = (sig/np.max(sig))*(2**14)\n",
      "    sig = sig.astype('int16')\n",
      "    return sig\n",
      "\n",
      "# this function plays samples through the speaker\n",
      "# at sample rate of rate\n",
      "def play_samples(x, rate=8000, chunk_size = 1000):\n",
      "    p = pyaudio.PyAudio()\n",
      "    stream = p.open(format= pyaudio.paInt16, channels=1, rate=rate,\n",
      "        input=False, output=True,\n",
      "        frames_per_buffer=len(x))\n",
      "    stream.write(x.astype(np.int16).tostring())\n",
      "    stream.stop_stream()\n",
      "    stream.close()\n",
      "    p.terminate()\n",
      "    \n",
      "\n"
     ],
     "language": "python",
     "metadata": {},
     "outputs": [],
     "prompt_number": 13
    },
    {
     "cell_type": "markdown",
     "metadata": {},
     "source": [
      "In the following cell, a signal from a wavefile is loaded into sig.\n",
      "The wavefile contains an audio signal which is made up of the sum of \n",
      "2 audio segments amplitude modulated at 8kHz and 3kHz each.\n",
      "The base-band signals have a bandwidth of ~2kHz.\n",
      "\n",
      "In the last line, the waveform is played through the soundcard as an example of how\n",
      "to use pyaudio to play audio signals. This line is commented out as it sounds terrible. \n",
      "You can uncomment, and run it if you want to hear what it sounds like\n",
      "\n",
      "Your job is to demodulate the two audio waveforms that are encoded in sig and play them. \n",
      "You should hear an electric guitar and a violin "
     ]
    },
    {
     "cell_type": "code",
     "collapsed": false,
     "input": [
      "# these are the two frequencies (in Hz) of the modulated waveforms\n",
      "f1 = 8000\n",
      "f2 = 3000\n",
      "\n",
      "# read the wave file into sig\n",
      "fs, sig = wavfile.read('TwoAM8k3k.wav')\n",
      "\n",
      "#play_samples(convert_to_int16(sig), rate=fs, chunk_size = 8000)\n",
      "\n"
     ],
     "language": "python",
     "metadata": {},
     "outputs": [],
     "prompt_number": 14
    },
    {
     "cell_type": "markdown",
     "metadata": {},
     "source": [
      "Some helpful numpy functions (assuming numpy was imported as np):  np.sinc, np.cos, np.convolve, np.arange, np.linspace"
     ]
    }
   ],
   "metadata": {}
  }
 ]
}